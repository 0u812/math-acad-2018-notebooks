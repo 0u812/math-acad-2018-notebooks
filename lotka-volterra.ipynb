{
  "cells": [
    {
      "cell_type": "code",
      "source": [
        "model *LVModel()\n",
        "  // Reactions:\n",
        "  R1: Magikarp -> 2Magikarp; kprey*Magikarp;\n",
        "  R2: Magikarp -> Pidgeot; kpred*Magikarp*Pidgeot;\n",
        "  R4: Pidgeot -> ; kd*Pidgeot;\n",
        "\n",
        "  // Species initializations:\n",
        "  Magikarp = 71;\n",
        "  Pidgeot = 79;\n",
        "\n",
        "  // Variable initializations:\n",
        "  kprey = 0.5;\n",
        "  kpred = 0.0025;\n",
        "  kd = 0.3;\n",
        "end"
      ],
      "outputs": [],
      "execution_count": 31,
      "metadata": {
        "collapsed": false,
        "outputHidden": false,
        "inputHidden": false,
        "tellurium": {
          "te_cell_type": "antimony"
        }
      }
    },
    {
      "cell_type": "code",
      "source": [
        "LVModel.reset()\n",
        "sim = LVModel.simulate(0,50,50)\n",
        "LVModel.plot()"
      ],
      "outputs": [],
      "execution_count": 32,
      "metadata": {
        "collapsed": false,
        "outputHidden": false,
        "inputHidden": false
      }
    },
    {
      "cell_type": "code",
      "source": [
        "import numpy as np\n",
        "nrows = sim.shape[0]\n",
        "print('nrows = {}'.format(nrows))\n",
        "noise = np.random.normal(0., 100., (nrows,1))"
      ],
      "outputs": [],
      "execution_count": 33,
      "metadata": {
        "collapsed": false,
        "outputHidden": false,
        "inputHidden": false
      }
    },
    {
      "cell_type": "code",
      "source": [
        "import matplotlib.pyplot as plt\n",
        "plt.plot(noise)"
      ],
      "outputs": [],
      "execution_count": 34,
      "metadata": {
        "collapsed": false,
        "outputHidden": false,
        "inputHidden": false
      }
    },
    {
      "cell_type": "code",
      "source": [
        "noisy_M = np.reshape(sim[:,1],(nrows,1)) + noise\n",
        "noisy_P = np.reshape(sim[:,2],(nrows,1)) + noise"
      ],
      "outputs": [],
      "execution_count": 35,
      "metadata": {
        "collapsed": false,
        "outputHidden": false,
        "inputHidden": false
      }
    },
    {
      "cell_type": "code",
      "source": [
        "plt.plot(sim[:,0], noisy_M)\n",
        "plt.plot(sim[:,0], noisy_P)\n"
      ],
      "outputs": [],
      "execution_count": 36,
      "metadata": {
        "collapsed": false,
        "outputHidden": false,
        "inputHidden": false
      }
    },
    {
      "cell_type": "code",
      "source": [
        "%cd ~\n",
        "import csv\n",
        "with open('LVData.csv', 'w', newline='') as csvfile:\n",
        "    writer = csv.writer(csvfile)\n",
        "    # write header row\n",
        "    writer.writerow(['time', 'M (noisy)', 'B (noisy)'])\n",
        "    for row in range(len(noisy_M)):\n",
        "        writer.writerow([sim[row,0], float(noisy_M[row]), float(noisy_P[row])])"
      ],
      "outputs": [],
      "execution_count": 37,
      "metadata": {
        "collapsed": false,
        "outputHidden": false,
        "inputHidden": false
      }
    },
    {
      "cell_type": "code",
      "source": [
        "times = np.zeros(50)\n",
        "M_data = np.zeros(50)\n",
        "P_data = np.zeros(50)\n",
        "\n",
        "with open('LVData.csv') as csvfile:\n",
        "    reader = csv.reader(csvfile)\n",
        "    k = 0\n",
        "    for row in reader:\n",
        "        break\n",
        "    for row in reader:\n",
        "        times[k] = row[0]\n",
        "        M_data[k] = row[1]\n",
        "        P_data[k] = row[2]\n",
        "        k += 1"
      ],
      "outputs": [],
      "execution_count": 38,
      "metadata": {
        "collapsed": false,
        "outputHidden": false,
        "inputHidden": false
      }
    },
    {
      "cell_type": "code",
      "source": [
        "model *LVModel()\n",
        "  // Reactions:\n",
        "  R1: Magikarp -> 2Magikarp; kprey*Magikarp;\n",
        "  R2: Magikarp -> Pidgeot; kpred*Magikarp*Pidgeot;\n",
        "  R4: Pidgeot -> ; kd*Pidgeot;\n",
        "\n",
        "  // Species initializations:\n",
        "  Magikarp = 71;\n",
        "  Pidgeot = 79;\n",
        "\n",
        "  // Variable initializations:\n",
        "  kprey = 1;\n",
        "  kpred = 0.01;\n",
        "  kd = 1;\n",
        "end"
      ],
      "outputs": [],
      "execution_count": 39,
      "metadata": {
        "collapsed": false,
        "outputHidden": false,
        "inputHidden": false,
        "tellurium": {
          "te_cell_type": "antimony"
        }
      }
    },
    {
      "cell_type": "code",
      "source": [
        "LVModel.reset()\n",
        "LVModel.simulate(0,50,50)\n",
        "LVModel.plot()"
      ],
      "outputs": [],
      "execution_count": 40,
      "metadata": {
        "collapsed": false,
        "outputHidden": false,
        "inputHidden": false
      }
    },
    {
      "cell_type": "code",
      "source": [
        "from scipy.optimize import differential_evolution"
      ],
      "outputs": [],
      "execution_count": 41,
      "metadata": {
        "collapsed": false,
        "outputHidden": false,
        "inputHidden": false
      }
    },
    {
      "cell_type": "code",
      "source": [
        "def mse(params):\n",
        "    LVModel.kprey = params[0]\n",
        "    LVModel.kpred = params[1]\n",
        "    LVModel.kd = params[2]\n",
        "    LVModel.reset()\n",
        "    sim = LVModel.simulate(0,50,50)\n",
        "    A_mse = np.sqrt(np.mean(np.square(sim[:,1] - M_data)))\n",
        "    B_mse = np.sqrt(np.mean(np.square(sim[:,2] - P_data)))\n",
        "    mse = np.sqrt(np.square(A_mse) + np.square(B_mse))\n",
        "    return float(mse)"
      ],
      "outputs": [],
      "execution_count": 42,
      "metadata": {
        "collapsed": false,
        "outputHidden": false,
        "inputHidden": false
      }
    },
    {
      "cell_type": "code",
      "source": [
        "bounds = [\n",
        "    (0.3, 1.5), # kprey true value = 0.5\n",
        "    (0.0025, 0.0125), # kpred true value = 0.0025\n",
        "    (0.3, 1.0) # kd true value = 0.3\n",
        "]"
      ],
      "outputs": [],
      "execution_count": 43,
      "metadata": {
        "collapsed": false,
        "outputHidden": false,
        "inputHidden": false
      }
    },
    {
      "cell_type": "code",
      "source": [
        "ret = differential_evolution(mse, bounds)\n"
      ],
      "outputs": [],
      "execution_count": 44,
      "metadata": {
        "collapsed": false,
        "outputHidden": false,
        "inputHidden": false
      }
    },
    {
      "cell_type": "code",
      "source": [
        "ret.x"
      ],
      "outputs": [],
      "execution_count": 45,
      "metadata": {
        "collapsed": false,
        "outputHidden": false,
        "inputHidden": false
      }
    },
    {
      "cell_type": "code",
      "source": [],
      "outputs": [],
      "execution_count": 46,
      "metadata": {
        "collapsed": false,
        "outputHidden": false,
        "inputHidden": false
      }
    }
  ],
  "metadata": {
    "kernelspec": {
      "name": "python3",
      "language": "python",
      "display_name": "Python 3 (built-in)"
    },
    "kernel_info": {
      "name": "python3"
    },
    "language_info": {
      "name": "python",
      "version": "3.6.3",
      "mimetype": "text/x-python",
      "codemirror_mode": {
        "name": "ipython",
        "version": 3
      },
      "pygments_lexer": "ipython3",
      "nbconvert_exporter": "python",
      "file_extension": ".py"
    }
  },
  "nbformat": 4,
  "nbformat_minor": 4
}