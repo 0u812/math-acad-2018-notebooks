{
  "cells": [
    {
      "cell_type": "markdown",
      "source": [
        "# CSV notebook\n",
        "\n",
        "This notebook shows you how to work with CSV files in Python. A CSV file is basically a spreadsheet-type table where everything is separated by commas.\n",
        "\nThe first step is to import the `csv` module in Python:"
      ],
      "metadata": {}
    },
    {
      "cell_type": "code",
      "source": [
        "import csv"
      ],
      "outputs": [],
      "execution_count": 1,
      "metadata": {
        "collapsed": false,
        "outputHidden": false,
        "inputHidden": false
      }
    },
    {
      "cell_type": "markdown",
      "source": [
        "# Reading CSVs\n",
        "\nTo read a csv you first have to open the file (using the `open` function). Next you create a `csv.reader` from the file you opened. The `csv.reader` object can be used to view each of the rows in your table."
      ],
      "metadata": {}
    },
    {
      "cell_type": "code",
      "source": [
        "# open the file (path may vary)\n",
        "with open('star-wars.csv','r') as csvfile:\n",
        "    # create the reader object\n",
        "    reader = csv.reader(csvfile)\n",
        "    # loop through the rows in the csv file\n",
        "    for row in reader:\n",
        "        print(row)\n",
        "# Question: What data type are the rows"
      ],
      "outputs": [],
      "execution_count": 2,
      "metadata": {
        "collapsed": false,
        "outputHidden": false,
        "inputHidden": false
      }
    },
    {
      "cell_type": "markdown",
      "source": [
        "# Working with the rows\n",
        "\n",
        "If you answered 'list' to the previous question, you're right! Each row is a list, so we can access its elements with `row[0]`, `row[1]` etc. The elements are all strings (notice the quotes `''`) but we can convert the second column to a number: `float(row[1])`.\n",
        "\n",
        "However, there is a problem. The first row contains text in the second column instead of a number. We can skep the first row\n",
        "\nExample for reading the rows, skipping the first row, converting to numbers, and adding them up."
      ],
      "metadata": {}
    },
    {
      "cell_type": "code",
      "source": [
        "with open('star-wars.csv','r') as csvfile:\n",
        "    reader = csv.reader(csvfile)\n",
        "    # skip the first row\n",
        "    for row in reader:\n",
        "        break # stops the loop\n",
        "    # loop through the remaining rows\n",
        "    for row in reader:\n",
        "        forcepower = float(row[1])\n",
        "        print(forcepower)"
      ],
      "outputs": [],
      "execution_count": 3,
      "metadata": {
        "collapsed": false,
        "outputHidden": false,
        "inputHidden": false
      }
    },
    {
      "cell_type": "markdown",
      "source": [
        "# Mean and standard deviation\n",
        "\n",
        "Two commonly used statistics are the mean and standard deviation. The mean is simply the average. It is equal to the sum of all the values divided by the number of values:\n",
        "\n",
        "**Mean** = $\\bar{x} = \\frac{1}{N} \\sum_{k=0}^{N-1} x_k = \\frac{1}{7} \\left(100 + 100 + 200 + 50 + 50 + 500 + 1000 + 9001 \\right) \\approx 1375$\n",
        "\n",
        "The standard deviation tells you how much the value fluctuates about the mean. You can calculate the standard deviation by subtracting each value from the mean, then squaring it, then taking the square root of all of those results divided by $N-1$:\n",
        "\n",
        "**Std. Dev.** = $\\sqrt{\\frac{\\sum_{k=0}^{N-1} (x_k - \\bar{x})^2}{N-1}}$\n",
        "\nAs a first step, we will calculate the mean, since we need it in order to calculate the standard deviation (actually, we don't, but getting around it requires some mathematical trickery)."
      ],
      "metadata": {}
    },
    {
      "cell_type": "code",
      "source": [
        "mean = 0. # the period is important\n",
        "N = 0 # no period\n",
        "with open('star-wars.csv','r') as csvfile:\n",
        "    reader = csv.reader(csvfile)\n",
        "    # skip the first row\n",
        "    for row in reader:\n",
        "        break\n",
        "    for row in reader:\n",
        "        forcepower = float(row[1])\n",
        "        mean = mean + forcepower # add each value to the mean\n",
        "        N = N + 1 # increment the number of values we've seen\n",
        "mean = mean / N # last step: divide by number of values\n",
        "print('The mean is:')\n",
        "print(mean)\n",
        "# do you know why we need a period for the values but not the counter?"
      ],
      "outputs": [],
      "execution_count": 4,
      "metadata": {
        "collapsed": false,
        "outputHidden": false,
        "inputHidden": false
      }
    },
    {
      "cell_type": "markdown",
      "source": [
        "# Calculating the standard deviation"
      ],
      "metadata": {}
    },
    {
      "cell_type": "code",
      "source": [
        "stddev = 0. # the period is important\n",
        "with open('star-wars.csv','r') as csvfile:\n",
        "    reader = csv.reader(csvfile)\n",
        "    # skip the first row\n",
        "    for row in reader:\n",
        "        break\n",
        "    for row in reader:\n",
        "        forcepower = float(row[1])\n",
        "        stddev += (forcepower - mean)**2\n",
        "from math import sqrt\n",
        "stddev = sqrt(stddev / (N-1))\n",
        "print('The stddev is:')\n",
        "print(stddev)"
      ],
      "outputs": [],
      "execution_count": 5,
      "metadata": {
        "collapsed": false,
        "outputHidden": false,
        "inputHidden": false
      }
    }
  ],
  "metadata": {
    "kernelspec": {
      "name": "python3",
      "language": "python",
      "display_name": "Python 3 (built-in)"
    },
    "kernel_info": {
      "name": "python3"
    },
    "language_info": {
      "name": "python",
      "version": "3.6.3",
      "mimetype": "text/x-python",
      "codemirror_mode": {
        "name": "ipython",
        "version": 3
      },
      "pygments_lexer": "ipython3",
      "nbconvert_exporter": "python",
      "file_extension": ".py"
    }
  },
  "nbformat": 4,
  "nbformat_minor": 4
}