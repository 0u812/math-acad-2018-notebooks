{
  "cells": [
    {
      "cell_type": "markdown",
      "source": [
        "# Model of drug effects on viral growth"
      ],
      "metadata": {}
    },
    {
      "cell_type": "code",
      "source": [
        "model HIV()\n",
        "  const P = 10e9\n",
        "  const s = 3/20\n",
        "  const V0 = P/s\n",
        "  var V = V0\n",
        "  \n",
        "  JP:   -> V; P\n",
        "  JD: V ->  ; s*V\n",
        "  \n",
        "  at time>=10: P=0\n",
        "end"
      ],
      "outputs": [],
      "execution_count": 37,
      "metadata": {
        "collapsed": false,
        "outputHidden": false,
        "inputHidden": false,
        "tellurium": {
          "te_cell_type": "antimony"
        }
      }
    },
    {
      "cell_type": "code",
      "source": [
        "HIV.simulate(0,30,100)\n",
        "HIV.plot(logy=True)"
      ],
      "outputs": [],
      "execution_count": 38,
      "metadata": {
        "collapsed": false,
        "outputHidden": false,
        "inputHidden": false
      }
    },
    {
      "cell_type": "markdown",
      "source": [
        "# HIV ARV Resistance Calculation\n",
        "\n",
        "HIV has a rapid mutation rate - approximately one in every three virus particles produced has a mutated genome. Let's try to calculate how long it will take for HIV to become resistant to our ARV therapy. First, let's assume that we have three drugs, and that in order to evolve resistance to each drug HIV must make a specific base substitution at one of the 9800 bases in the genome.\n",
        "\n",
        "First, recall that HIV production is about $0.7 \\cdot 10^9$ virions per day. One third of these, or $2.3 \\cdot 10^8$ will be mutants. What is the chance that one of these mutants will have resistance to an ARV drug? \n",
        "\nAssume each mutant has a single base substitution. Recall there are 4 possible bases, so each substitution can choose from among 3 possible candidate bases. Thus, there are $9800 \\cdot 3$ possibilities out of which one **one** will confer drug resistance. These assumptions are a bit over-simplified, but our final answer should be correct to within a few orders of magnitude."
      ],
      "metadata": {}
    },
    {
      "cell_type": "code",
      "source": [
        "mutants_per_day = 2.3e8\n",
        "possible_substitutions = 9800.*3.\n",
        "resistant_mutants_per_day = mutants_per_day/possible_substitutions\n",
        "print(resistant_mutants_per_day)"
      ],
      "outputs": [],
      "execution_count": 39,
      "metadata": {
        "collapsed": false,
        "outputHidden": false,
        "inputHidden": false
      }
    },
    {
      "cell_type": "markdown",
      "source": [
        "Dismayed, we find that HIV will not only evolve resistance immediately, it will be expected to produce on the order of 7000 resistant mutants per day. Clearly, one ARV drug is not enough to stop HIV, but we can use a two-drug combination instead.\n",
        "\nIn order to evolve resistance to two drugs, assume that HIV needs to make **two** specific base substitutions at respective specific locations in the genome. There are $(9800 \\cdot 3)^2/2$ unique two-base substitutions (the factor of 2 in the denominator is because the order of the substitutions does not matter)."
      ],
      "metadata": {}
    },
    {
      "cell_type": "code",
      "source": [
        "possible_substitutions_2_drugs = (9800.*3.)**2./2.\n",
        "resistant_mutants_per_day_2_drugs = mutants_per_day/possible_substitutions_2_drugs\n",
        "print(resistant_mutants_per_day_2_drugs)"
      ],
      "outputs": [],
      "execution_count": 40,
      "metadata": {
        "collapsed": false,
        "outputHidden": false,
        "inputHidden": false
      }
    },
    {
      "cell_type": "markdown",
      "source": [
        "This is better. If we use two drugs, HIV produces less than one resistant mutant per day on average, but it will still evolve resistance in a matter of days.\n",
        "\n",
        "Let's try three drugs. Following our previous method, we calculate the number of unique three-base substitutions: $(9800 \\cdot 3)^3/6$. The factor of six comes from choosing three substitutions in no particular order. This is called a combination. Ignoring the factor of 3, we could write (pronounced \"9800 choose 3\"):\n",
        "\n${9800 \\choose 3} = \\frac{9800 \\cdot 9799 \\cdot 9798}{3 \\cdot 2 \\cdot 1} \\approx \\frac{9800^3}{6}$"
      ],
      "metadata": {}
    },
    {
      "cell_type": "code",
      "source": [
        "possible_substitutions_3_drugs = (9800.*3.)**3./6.\n",
        "resistant_mutants_per_day_3_drugs = mutants_per_day/possible_substitutions_3_drugs\n",
        "print(resistant_mutants_per_day_3_drugs)"
      ],
      "outputs": [],
      "execution_count": 41,
      "metadata": {
        "collapsed": false,
        "outputHidden": false,
        "inputHidden": false
      }
    }
  ],
  "metadata": {
    "kernelspec": {
      "name": "python3",
      "language": "python",
      "display_name": "Python 3 (built-in)"
    },
    "kernel_info": {
      "name": "python3"
    },
    "language_info": {
      "name": "python",
      "version": "3.6.3",
      "mimetype": "text/x-python",
      "codemirror_mode": {
        "name": "ipython",
        "version": 3
      },
      "pygments_lexer": "ipython3",
      "nbconvert_exporter": "python",
      "file_extension": ".py"
    }
  },
  "nbformat": 4,
  "nbformat_minor": 4
}