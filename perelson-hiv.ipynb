{
  "cells": [
    {
      "cell_type": "markdown",
      "source": [
        "# HIV ARV Resistance Window\n",
        "\n",
        "HIV has a rapid mutation rate - approximately one in every three virus particles produced has a mutated genome. Let's try to calculate how long it will take for HIV to become resistant to our ARV therapy. First, let's assume that we have three drugs, and that in order to evolve resistance to each drug HIV must make a specific base substitution at one of the 9800 bases in the genome.\n",
        "\n",
        "First, recall that HIV production is about $0.7 \\cdot 10^9$ virions per day. One third of these, or $2.3 \\cdot 10^8$ will be mutants. What is the chance that one of these mutants will have resistance to an ARV drug? \n",
        "\nAssume each mutant has a single base substitution. Recall there are 4 possible bases, so each substitution can choose from among 3 possible candidate bases. Thus, there are $9800 \\cdot 3$ possibilities out of which one **one** will confer drug resistance."
      ],
      "metadata": {}
    },
    {
      "cell_type": "code",
      "source": [
        "mutants_per_day = 2.3e8\n",
        "possible_substitutions = 9800.*3\n",
        "resistant_mutants_per_day = mutants_per_day/possible_substitutions\n",
        "print(resistant_mutants_per_day)"
      ],
      "outputs": [],
      "execution_count": 1,
      "metadata": {
        "collapsed": false,
        "outputHidden": false,
        "inputHidden": false
      }
    }
  ],
  "metadata": {
    "kernelspec": {
      "name": "python3",
      "language": "python",
      "display_name": "Python 3 (built-in)"
    },
    "kernel_info": {
      "name": "python3"
    },
    "language_info": {
      "name": "python",
      "version": "3.6.3",
      "mimetype": "text/x-python",
      "codemirror_mode": {
        "name": "ipython",
        "version": 3
      },
      "pygments_lexer": "ipython3",
      "nbconvert_exporter": "python",
      "file_extension": ".py"
    }
  },
  "nbformat": 4,
  "nbformat_minor": 4
}